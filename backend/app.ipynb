{
 "cells": [
  {
   "cell_type": "code",
   "execution_count": null,
   "metadata": {},
   "outputs": [
    {
     "name": "stderr",
     "output_type": "stream",
     "text": [
      "WARNING: This is a development server. Do not use it in a production deployment. Use a production WSGI server instead.\n",
      " * Running on all addresses (0.0.0.0)\n",
      " * Running on http://127.0.0.1:5000\n",
      " * Running on http://192.168.114.213:5000\n",
      "Press CTRL+C to quit\n",
      "127.0.0.1 - - [29/Apr/2025 22:08:46] \"GET /api/recipe?ingredients=FreshCarrot,FreshBellpepper,FreshPotato,FreshTomato&query=Suggest%20a%20recipe%20using%20items:%20FreshCarrot%20and%20FreshBellpepper%20and%20FreshPotato%20and%20FreshTomato HTTP/1.1\" 200 -\n"
     ]
    },
    {
     "name": "stdout",
     "output_type": "stream",
     "text": [
      "Error generating recipe: \n",
      "\n",
      "You tried to access openai.ChatCompletion, but this is no longer supported in openai>=1.0.0 - see the README at https://github.com/openai/openai-python for the API.\n",
      "\n",
      "You can run `openai migrate` to automatically upgrade your codebase to use the 1.0.0 interface. \n",
      "\n",
      "Alternatively, you can pin your installation to the old version, e.g. `pip install openai==0.28`\n",
      "\n",
      "A detailed migration guide is available here: https://github.com/openai/openai-python/discussions/742\n",
      "\n",
      "Traceback (most recent call last):\n",
      "  File \"C:\\Users\\venka\\AppData\\Local\\Temp\\ipykernel_8408\\88318317.py\", line 27, in generate_recipe\n",
      "    response = openai.ChatCompletion.create(\n",
      "  File \"c:\\Users\\venka\\anaconda3\\envs\\tf-gpu\\lib\\site-packages\\openai\\lib\\_old_api.py\", line 39, in __call__\n",
      "    raise APIRemovedInV1(symbol=self._symbol)\n",
      "openai.lib._old_api.APIRemovedInV1: \n",
      "\n",
      "You tried to access openai.ChatCompletion, but this is no longer supported in openai>=1.0.0 - see the README at https://github.com/openai/openai-python for the API.\n",
      "\n",
      "You can run `openai migrate` to automatically upgrade your codebase to use the 1.0.0 interface. \n",
      "\n",
      "Alternatively, you can pin your installation to the old version, e.g. `pip install openai==0.28`\n",
      "\n",
      "A detailed migration guide is available here: https://github.com/openai/openai-python/discussions/742\n",
      "\n",
      "\n"
     ]
    }
   ],
   "source": [
    "from flask import Flask, request, jsonify\n",
    "from flask_cors import CORS\n",
    "import openai\n",
    "import traceback\n",
    "import os\n",
    "from dotenv import load_dotenv\n",
    "app = Flask(__name__)\n",
    "CORS(app)  # Allow frontend requests\n",
    "\n",
    "# 🔹 OpenAI API Key\n",
    "load_dotenv()\n",
    "openai.api_key = os.getenv(OPENAI_API_KEY) # set the openai key in a seperate environment\n",
    "\n",
    "\n",
    "def generate_recipe(ingredients, query):\n",
    "    \"\"\"Generates a well-structured recipe using OpenAI's API.\"\"\"\n",
    "    prompt = (\n",
    "        f\"User Query: {query}\\n\"\n",
    "        f\"Generate a recipe using these ingredients: {ingredients}.\\n\"\n",
    "        \"Ensure that the recipe aligns with the user's request.\\n\"\n",
    "        \"Format it as follows:\\n\"\n",
    "        \"Title: <Recipe Name>\\n\"\n",
    "        \"Ingredients:\\n- <List each ingredient on a new line>\\n\"\n",
    "        \"Method:\\n<Step-by-step instructions>\\n\"\n",
    "        \"Calories:\\n<Calories of each item and the calorie of the dish\"\n",
    "        \"At the end, give a good ending note like:\\n\"\n",
    "        \"Enjoy your delicious homemade <Recipe Name>!\"\n",
    "    )\n",
    "    try:\n",
    "        response = openai.ChatCompletion.create(\n",
    "            model=\"gpt-4\",\n",
    "            messages=[{\"role\": \"system\", \"content\": \"You are a professional chef. Format the response properly.\"},\n",
    "                      {\"role\": \"user\", \"content\": prompt}],\n",
    "            max_tokens=500\n",
    "        )\n",
    "        return response[\"choices\"][0][\"message\"][\"content\"]\n",
    "    except Exception as e:\n",
    "        error_message = f\"Error generating recipe: {e}\\n{traceback.format_exc()}\"\n",
    "        print(error_message)\n",
    "        return f\"Error: {error_message}\"\n",
    "\n",
    "@app.route('/api/recipe')\n",
    "def get_recipe():\n",
    "    ingredients = request.args.get('ingredients', '')\n",
    "    query = request.args.get('query', 'Provide a recipe suggestion.')\n",
    "    try:\n",
    "        recipe = generate_recipe(ingredients, query)\n",
    "        return jsonify({'recipe': recipe})\n",
    "    except Exception as e:\n",
    "        error_message = f\"Server Error: {e}\\n{traceback.format_exc()}\"\n",
    "        print(error_message)\n",
    "        return jsonify({'error': error_message}), 500\n",
    "\n",
    "# 🔹 Run Flask in Jupyter Notebook\n",
    "if __name__ == '__main__':\n",
    "    from werkzeug.serving import run_simple\n",
    "    run_simple('0.0.0.0', 5000, app, use_reloader=False, use_debugger=True)\n"
   ]
  }
 ],
 "metadata": {
  "kernelspec": {
   "display_name": "tf-gpu",
   "language": "python",
   "name": "python3"
  },
  "language_info": {
   "codemirror_mode": {
    "name": "ipython",
    "version": 3
   },
   "file_extension": ".py",
   "mimetype": "text/x-python",
   "name": "python",
   "nbconvert_exporter": "python",
   "pygments_lexer": "ipython3",
   "version": "3.8.20"
  }
 },
 "nbformat": 4,
 "nbformat_minor": 2
}
