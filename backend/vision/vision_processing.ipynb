{
 "cells": [
  {
   "cell_type": "code",
   "execution_count": null,
   "metadata": {},
   "outputs": [
    {
     "name": "stderr",
     "output_type": "stream",
     "text": [
      "c:\\Users\\venka\\anaconda3\\envs\\tf-gpu\\lib\\site-packages\\sklearn\\base.py:348: InconsistentVersionWarning: Trying to unpickle estimator SVC from version 1.3.0 when using version 1.3.2. This might lead to breaking code or invalid results. Use at your own risk. For more info please refer to:\n",
      "https://scikit-learn.org/stable/model_persistence.html#security-maintainability-limitations\n",
      "  warnings.warn(\n"
     ]
    },
    {
     "name": "stdout",
     "output_type": "stream",
     "text": [
      "WARNING:tensorflow:`input_shape` is undefined or non-square, or `rows` is not in [96, 128, 160, 192, 224]. Weights for input shape (224, 224) will be loaded as the default.\n",
      "❌ Error incrementing storage_day: [Errno 11001] getaddrinfo failed\n"
     ]
    },
    {
     "name": "stderr",
     "output_type": "stream",
     "text": [
      "WARNING: This is a development server. Do not use it in a production deployment. Use a production WSGI server instead.\n",
      " * Running on all addresses (0.0.0.0)\n",
      " * Running on http://127.0.0.1:5001\n",
      " * Running on http://192.168.114.213:5001\n",
      "Press CTRL+C to quit\n",
      "127.0.0.1 - - [29/Apr/2025 22:01:10] \"OPTIONS /api/analyze_image HTTP/1.1\" 200 -\n"
     ]
    },
    {
     "name": "stdout",
     "output_type": "stream",
     "text": [
      "1/1 [==============================] - 11s 11s/step\n"
     ]
    },
    {
     "name": "stderr",
     "output_type": "stream",
     "text": [
      "127.0.0.1 - - [29/Apr/2025 22:01:21] \"POST /api/analyze_image HTTP/1.1\" 200 -\n"
     ]
    },
    {
     "name": "stdout",
     "output_type": "stream",
     "text": [
      "❌ DB Update Error: [Errno 11001] getaddrinfo failed\n",
      "1/1 [==============================] - 0s 17ms/step\n"
     ]
    },
    {
     "name": "stderr",
     "output_type": "stream",
     "text": [
      "127.0.0.1 - - [29/Apr/2025 22:01:21] \"POST /api/analyze_image HTTP/1.1\" 200 -\n"
     ]
    },
    {
     "name": "stdout",
     "output_type": "stream",
     "text": [
      "❌ DB Update Error: [Errno 11001] getaddrinfo failed\n",
      "1/1 [==============================] - 0s 21ms/step\n"
     ]
    },
    {
     "name": "stderr",
     "output_type": "stream",
     "text": [
      "127.0.0.1 - - [29/Apr/2025 22:01:22] \"POST /api/analyze_image HTTP/1.1\" 200 -\n"
     ]
    },
    {
     "name": "stdout",
     "output_type": "stream",
     "text": [
      "❌ DB Update Error: [Errno 11001] getaddrinfo failed\n",
      "1/1 [==============================] - 0s 18ms/step\n"
     ]
    },
    {
     "name": "stderr",
     "output_type": "stream",
     "text": [
      "127.0.0.1 - - [29/Apr/2025 22:01:22] \"POST /api/analyze_image HTTP/1.1\" 200 -\n"
     ]
    },
    {
     "name": "stdout",
     "output_type": "stream",
     "text": [
      "❌ DB Update Error: [Errno 11001] getaddrinfo failed\n",
      "1/1 [==============================] - 0s 4ms/step\n"
     ]
    },
    {
     "name": "stderr",
     "output_type": "stream",
     "text": [
      "127.0.0.1 - - [29/Apr/2025 22:01:22] \"POST /api/analyze_image HTTP/1.1\" 200 -\n"
     ]
    },
    {
     "name": "stdout",
     "output_type": "stream",
     "text": [
      "❌ DB Update Error: [Errno 11001] getaddrinfo failed\n",
      "1/1 [==============================] - 0s 19ms/step\n"
     ]
    },
    {
     "name": "stderr",
     "output_type": "stream",
     "text": [
      "127.0.0.1 - - [29/Apr/2025 22:01:22] \"POST /api/analyze_image HTTP/1.1\" 200 -\n",
      "127.0.0.1 - - [29/Apr/2025 22:01:22] \"OPTIONS /api/analyze_image HTTP/1.1\" 200 -\n",
      "127.0.0.1 - - [29/Apr/2025 22:01:22] \"OPTIONS /api/analyze_image HTTP/1.1\" 200 -\n",
      "127.0.0.1 - - [29/Apr/2025 22:01:22] \"OPTIONS /api/analyze_image HTTP/1.1\" 200 -\n",
      "127.0.0.1 - - [29/Apr/2025 22:01:22] \"OPTIONS /api/analyze_image HTTP/1.1\" 200 -\n",
      "127.0.0.1 - - [29/Apr/2025 22:01:22] \"OPTIONS /api/analyze_image HTTP/1.1\" 200 -\n",
      "127.0.0.1 - - [29/Apr/2025 22:01:22] \"OPTIONS /api/analyze_image HTTP/1.1\" 200 -\n",
      "127.0.0.1 - - [29/Apr/2025 22:01:22] \"OPTIONS /api/analyze_image HTTP/1.1\" 200 -\n"
     ]
    },
    {
     "name": "stdout",
     "output_type": "stream",
     "text": [
      "❌ DB Update Error: [Errno 11001] getaddrinfo failed\n",
      "1/1 [==============================] - 0s 13ms/step\n"
     ]
    },
    {
     "name": "stderr",
     "output_type": "stream",
     "text": [
      "127.0.0.1 - - [29/Apr/2025 22:01:22] \"POST /api/analyze_image HTTP/1.1\" 200 -\n"
     ]
    },
    {
     "name": "stdout",
     "output_type": "stream",
     "text": [
      "❌ DB Update Error: [Errno 11001] getaddrinfo failed\n",
      "1/1 [==============================] - 0s 18ms/step\n",
      "❌ DB Update Error: [Errno 11001] getaddrinfo failed\n"
     ]
    },
    {
     "name": "stderr",
     "output_type": "stream",
     "text": [
      "127.0.0.1 - - [29/Apr/2025 22:01:23] \"POST /api/analyze_image HTTP/1.1\" 200 -\n"
     ]
    },
    {
     "name": "stdout",
     "output_type": "stream",
     "text": [
      "1/1 [==============================] - 0s 19ms/step\n"
     ]
    },
    {
     "name": "stderr",
     "output_type": "stream",
     "text": [
      "127.0.0.1 - - [29/Apr/2025 22:01:23] \"POST /api/analyze_image HTTP/1.1\" 200 -\n"
     ]
    },
    {
     "name": "stdout",
     "output_type": "stream",
     "text": [
      "❌ DB Update Error: [Errno 11001] getaddrinfo failed\n",
      "1/1 [==============================] - 0s 17ms/step\n"
     ]
    },
    {
     "name": "stderr",
     "output_type": "stream",
     "text": [
      "127.0.0.1 - - [29/Apr/2025 22:01:23] \"POST /api/analyze_image HTTP/1.1\" 200 -\n"
     ]
    },
    {
     "name": "stdout",
     "output_type": "stream",
     "text": [
      "❌ DB Update Error: [Errno 11001] getaddrinfo failed\n",
      "1/1 [==============================] - 0s 16ms/step\n"
     ]
    },
    {
     "name": "stderr",
     "output_type": "stream",
     "text": [
      "127.0.0.1 - - [29/Apr/2025 22:01:23] \"POST /api/analyze_image HTTP/1.1\" 200 -\n"
     ]
    },
    {
     "name": "stdout",
     "output_type": "stream",
     "text": [
      "❌ DB Update Error: [Errno 11001] getaddrinfo failed\n",
      "1/1 [==============================] - 0s 15ms/step\n"
     ]
    },
    {
     "name": "stderr",
     "output_type": "stream",
     "text": [
      "127.0.0.1 - - [29/Apr/2025 22:01:23] \"POST /api/analyze_image HTTP/1.1\" 200 -\n"
     ]
    },
    {
     "name": "stdout",
     "output_type": "stream",
     "text": [
      "❌ DB Update Error: [Errno 11001] getaddrinfo failed\n",
      "1/1 [==============================] - 0s 14ms/step\n"
     ]
    },
    {
     "name": "stderr",
     "output_type": "stream",
     "text": [
      "127.0.0.1 - - [29/Apr/2025 22:01:24] \"POST /api/analyze_image HTTP/1.1\" 200 -\n"
     ]
    },
    {
     "name": "stdout",
     "output_type": "stream",
     "text": [
      "❌ DB Update Error: [Errno 11001] getaddrinfo failed\n"
     ]
    },
    {
     "name": "stderr",
     "output_type": "stream",
     "text": [
      "127.0.0.1 - - [29/Apr/2025 22:04:56] \"OPTIONS /api/analyze_image HTTP/1.1\" 200 -\n"
     ]
    },
    {
     "name": "stdout",
     "output_type": "stream",
     "text": [
      "1/1 [==============================] - 0s 34ms/step\n"
     ]
    },
    {
     "name": "stderr",
     "output_type": "stream",
     "text": [
      "127.0.0.1 - - [29/Apr/2025 22:04:57] \"POST /api/analyze_image HTTP/1.1\" 200 -\n"
     ]
    },
    {
     "name": "stdout",
     "output_type": "stream",
     "text": [
      "❌ DB Update Error: [Errno 11001] getaddrinfo failed\n",
      "1/1 [==============================] - 0s 18ms/step\n"
     ]
    },
    {
     "name": "stderr",
     "output_type": "stream",
     "text": [
      "127.0.0.1 - - [29/Apr/2025 22:04:58] \"POST /api/analyze_image HTTP/1.1\" 200 -\n"
     ]
    },
    {
     "name": "stdout",
     "output_type": "stream",
     "text": [
      "❌ DB Update Error: [Errno 11001] getaddrinfo failed\n"
     ]
    },
    {
     "name": "stderr",
     "output_type": "stream",
     "text": [
      "127.0.0.1 - - [29/Apr/2025 22:06:42] \"OPTIONS /api/analyze_image HTTP/1.1\" 200 -\n"
     ]
    },
    {
     "name": "stdout",
     "output_type": "stream",
     "text": [
      "1/1 [==============================] - 0s 16ms/step\n"
     ]
    },
    {
     "name": "stderr",
     "output_type": "stream",
     "text": [
      "127.0.0.1 - - [29/Apr/2025 22:06:43] \"POST /api/analyze_image HTTP/1.1\" 200 -\n"
     ]
    },
    {
     "name": "stdout",
     "output_type": "stream",
     "text": [
      "❌ DB Update Error: {'code': '42P01', 'details': None, 'hint': None, 'message': 'relation \"public.fridge_contents\" does not exist'}\n",
      "1/1 [==============================] - 0s 18ms/step\n"
     ]
    },
    {
     "name": "stderr",
     "output_type": "stream",
     "text": [
      "127.0.0.1 - - [29/Apr/2025 22:06:43] \"POST /api/analyze_image HTTP/1.1\" 200 -\n"
     ]
    },
    {
     "name": "stdout",
     "output_type": "stream",
     "text": [
      "🚫 Rotten item detected: RottenBellpepper — not inserted.\n",
      "1/1 [==============================] - 0s 13ms/step\n"
     ]
    },
    {
     "name": "stderr",
     "output_type": "stream",
     "text": [
      "127.0.0.1 - - [29/Apr/2025 22:06:45] \"POST /api/analyze_image HTTP/1.1\" 200 -\n"
     ]
    },
    {
     "name": "stdout",
     "output_type": "stream",
     "text": [
      "❌ DB Update Error: {'code': '42P01', 'details': None, 'hint': None, 'message': 'relation \"public.fridge_contents\" does not exist'}\n"
     ]
    },
    {
     "name": "stderr",
     "output_type": "stream",
     "text": [
      "127.0.0.1 - - [29/Apr/2025 22:07:02] \"OPTIONS /api/analyze_image HTTP/1.1\" 200 -\n"
     ]
    },
    {
     "name": "stdout",
     "output_type": "stream",
     "text": [
      "1/1 [==============================] - 0s 19ms/step\n"
     ]
    },
    {
     "name": "stderr",
     "output_type": "stream",
     "text": [
      "127.0.0.1 - - [29/Apr/2025 22:07:02] \"POST /api/analyze_image HTTP/1.1\" 200 -\n"
     ]
    },
    {
     "name": "stdout",
     "output_type": "stream",
     "text": [
      "🚫 Rotten item detected: RottenCarrot — not inserted.\n",
      "1/1 [==============================] - 0s 19ms/step\n"
     ]
    },
    {
     "name": "stderr",
     "output_type": "stream",
     "text": [
      "127.0.0.1 - - [29/Apr/2025 22:07:04] \"POST /api/analyze_image HTTP/1.1\" 200 -\n"
     ]
    },
    {
     "name": "stdout",
     "output_type": "stream",
     "text": [
      "❌ DB Update Error: {'message': 'JSON could not be generated', 'code': 503, 'hint': 'Refer to full message for details', 'details': \"b'upstream connect error or disconnect/reset before headers. retried and the latest reset reason: remote connection failure, transport failure reason: delayed connect error: 111'\"}\n",
      "1/1 [==============================] - 0s 20ms/step\n"
     ]
    },
    {
     "name": "stderr",
     "output_type": "stream",
     "text": [
      "127.0.0.1 - - [29/Apr/2025 22:07:04] \"POST /api/analyze_image HTTP/1.1\" 200 -\n"
     ]
    },
    {
     "name": "stdout",
     "output_type": "stream",
     "text": [
      "🚫 Rotten item detected: RottenCarrot — not inserted.\n"
     ]
    }
   ],
   "source": [
    "# 📌 Setup and Imports\n",
    "import cv2\n",
    "import numpy as np\n",
    "import joblib\n",
    "import base64\n",
    "import io\n",
    "import requests\n",
    "import supabase\n",
    "import time\n",
    "import threading\n",
    "from flask import Flask, request, jsonify\n",
    "from flask_cors import CORS\n",
    "from tensorflow.keras.applications.mobilenet_v2 import preprocess_input\n",
    "from tensorflow.keras.models import Model\n",
    "from tensorflow.keras.applications import MobileNetV2\n",
    "from PIL import Image\n",
    "import nest_asyncio\n",
    "\n",
    "# 📌 Allow Flask to run inside Jupyter Notebook\n",
    "nest_asyncio.apply()\n",
    "\n",
    "# 📌 Flask App\n",
    "app = Flask(__name__)\n",
    "CORS(app, resources={r\"/api/*\": {\"origins\": \"*\"}})\n",
    "\n",
    "# 📌 Supabase Initialization\n",
    "SUPABASE_URL = \"\" #replace with you URL\n",
    "SUPABASE_KEY = \"\" # replace with your key\n",
    "supabase_client = supabase.create_client(SUPABASE_URL, SUPABASE_KEY)\n",
    "\n",
    "# 📌 Load Models\n",
    "try:\n",
    "    svm_fresh_rotten = joblib.load(\"models/fresh_vs_rotten_svm_model.pkl\")\n",
    "    svm_food_type = joblib.load(\"models/food_type_svm_model.pkl\")\n",
    "    food_categories = joblib.load(\"models/food_categories.pkl\")\n",
    "except Exception as e:\n",
    "    print(f\"❌ Error loading models: {e}\")\n",
    "    raise\n",
    "\n",
    "# 📌 Feature Extraction Model\n",
    "base_model = MobileNetV2(weights=\"imagenet\", include_top=False, input_shape=(220, 220, 3))\n",
    "feature_model = Model(inputs=base_model.input, outputs=base_model.output)\n",
    "\n",
    "# 📌 Webcam URL\n",
    "IP_WEBCAM_URL = \"http://192.168.114.28:8080/shot.jpg\"\n",
    "\n",
    "# 📌 Fetch Image Frame from IP Webcam\n",
    "def fetch_ip_webcam_frame():\n",
    "    try:\n",
    "        response = requests.get(IP_WEBCAM_URL, timeout=2)\n",
    "        if response.status_code == 200:\n",
    "            img_array = np.array(Image.open(io.BytesIO(response.content)))\n",
    "            return img_array\n",
    "        else:\n",
    "            return None\n",
    "    except Exception as e:\n",
    "        print(f\"❌ Error fetching image: {e}\")\n",
    "        return None\n",
    "\n",
    "# 📌 Prediction Logic\n",
    "def predict_food(img):\n",
    "    try:\n",
    "        img_array = cv2.resize(img, (220, 220))\n",
    "        img_array = img_array.astype(\"float32\")\n",
    "        img_array = preprocess_input(img_array)\n",
    "        img_array = np.expand_dims(img_array, axis=0)\n",
    "\n",
    "        features = feature_model.predict(img_array)\n",
    "        features = features.flatten().reshape(1, -1)\n",
    "\n",
    "        freshness_prediction = svm_fresh_rotten.predict(features)[0]\n",
    "        food_type_prediction = svm_food_type.predict(features)[0]\n",
    "        food_category = food_categories[food_type_prediction]\n",
    "\n",
    "        return {\n",
    "            #\"freshness\": \"Fresh\" if freshness_prediction == 1 else \"Rotten\",\n",
    "            \"food_type\": food_category\n",
    "        }\n",
    "    except Exception as e:\n",
    "        return {\"error\": f\"Error processing image: {e}\"}\n",
    "\n",
    "# 📌 Update or Insert to Supabase\n",
    "def update_or_insert_food(food_name):\n",
    "    try:\n",
    "        existing_item = supabase_client.from_(\"fridge_contents\").select(\"*\").eq(\"name\", food_name).execute()\n",
    "\n",
    "        if existing_item.data:\n",
    "            item_id = existing_item.data[0][\"id\"]\n",
    "            current_quantity = existing_item.data[0][\"quantity\"]\n",
    "\n",
    "            supabase_client.from_(\"fridge_contents\").update({\n",
    "                \"quantity\": current_quantity + 1\n",
    "            }).eq(\"id\", item_id).execute()\n",
    "        else:\n",
    "            supabase_client.from_(\"fridge_contents\").insert([{\n",
    "                \"name\": food_name,\n",
    "                \"quantity\": 1,\n",
    "                \"storage_day\": 1\n",
    "            }]).execute()\n",
    "\n",
    "            print(f\"✅ Inserted new item: {food_name} with storage_day = 1\")\n",
    "    except Exception as e:\n",
    "        print(f\"❌ DB Update Error: {e}\")\n",
    "\n",
    "# 📌 Increment Storage Day Thread\n",
    "def increment_storage_days():\n",
    "    while True:\n",
    "        try:\n",
    "            response = supabase_client.from_(\"fridge_contents\").select(\"id, storage_day\").execute()\n",
    "            if response.data:\n",
    "                for item in response.data:\n",
    "                    item_id = item[\"id\"]\n",
    "                    new_storage_day = item[\"storage_day\"] + 1\n",
    "\n",
    "                    supabase_client.from_(\"fridge_contents\").update(\n",
    "                        {\"storage_day\": new_storage_day}\n",
    "                    ).eq(\"id\", item_id).execute()\n",
    "            print(\"✅ Storage days incremented.\")\n",
    "        except Exception as e:\n",
    "            print(f\"❌ Error incrementing storage_day: {e}\")\n",
    "        time.sleep(6000)\n",
    "\n",
    "# 📌 Start Increment Thread\n",
    "threading.Thread(target=increment_storage_days, daemon=True).start()\n",
    "\n",
    "# 📌 Flask Routes\n",
    "@app.route(\"/api/analyze_image\", methods=[\"POST\"])\n",
    "def analyze_image():\n",
    "    try:\n",
    "        image = fetch_ip_webcam_frame()\n",
    "        if image is None:\n",
    "            return jsonify({\"error\": \"Failed to fetch image from IP Webcam\"}), 500\n",
    "\n",
    "        # Ensure RGB conversion\n",
    "        if len(image.shape) == 2:\n",
    "            image = cv2.cvtColor(image, cv2.COLOR_GRAY2RGB)\n",
    "        elif image.shape[2] == 4:\n",
    "            image = cv2.cvtColor(image, cv2.COLOR_RGBA2RGB)\n",
    "\n",
    "        result = predict_food(image)\n",
    "\n",
    "        # Only update DB if fresh\n",
    "        if \"error\" not in result and result[\"food_type\"].startswith('Fresh'):\n",
    "            update_or_insert_food(result[\"food_type\"])\n",
    "        elif \"error\" not in result:\n",
    "            print(f\"🚫 Rotten item detected: {result['food_type']} — not inserted.\")\n",
    "\n",
    "        return jsonify(result)\n",
    "    except Exception as e:\n",
    "        return jsonify({\"error\": f\"Exception analyzing image: {e}\"}), 500\n",
    "\n",
    "@app.route(\"/\", methods=[\"GET\"])\n",
    "def home():\n",
    "    return jsonify({\"message\": \"API is running!\"})\n",
    "\n",
    "# 📌 Run Flask in Jupyter\n",
    "from werkzeug.serving import run_simple\n",
    "run_simple(\"0.0.0.0\", 5001, app, use_reloader=False, use_debugger=True)\n"
   ]
  }
 ],
 "metadata": {
  "kernelspec": {
   "display_name": "tf-gpu",
   "language": "python",
   "name": "python3"
  },
  "language_info": {
   "codemirror_mode": {
    "name": "ipython",
    "version": 3
   },
   "file_extension": ".py",
   "mimetype": "text/x-python",
   "name": "python",
   "nbconvert_exporter": "python",
   "pygments_lexer": "ipython3",
   "version": "3.8.20"
  }
 },
 "nbformat": 4,
 "nbformat_minor": 2
}
